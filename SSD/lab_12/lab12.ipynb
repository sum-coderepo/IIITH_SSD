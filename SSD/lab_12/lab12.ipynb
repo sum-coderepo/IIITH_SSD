{
 "cells": [
  {
   "cell_type": "code",
   "execution_count": 29,
   "id": "3ed1cdb2-bab8-4ecc-9060-d254eac3c3cd",
   "metadata": {
    "scrolled": true,
    "tags": []
   },
   "outputs": [
    {
     "name": "stdout",
     "output_type": "stream",
     "text": [
      "1 : ['16:00:21.298', None, None]\n",
      "2 : ['16:00:21.974', 7, None]\n",
      "3 : ['16:00:24.435', 7, None]\n",
      "4 : ['16:00:24.448', 7, None]\n",
      "5 : ['16:00:24.460', 7, None]\n",
      "6 : ['16:00:24.668', 7, None]\n",
      "7 : ['16:00:25.332', 7, None]\n",
      "8 : ['16:00:26.012', 7, None]\n",
      "9 : ['16:00:26.687', 7, None]\n",
      "10 : ['16:00:27.360', 3, 23]\n",
      "11 : ['16:00:28.033', None, 23]\n",
      "12 : ['16:00:28.706', None, 25]\n",
      "13 : ['16:00:29.385', None, 25]\n",
      "14 : ['16:00:30.062', None, 25]\n",
      "15 : ['16:00:30.744', 41, 23]\n",
      "16 : ['16:00:31.409', 41, None]\n",
      "17 : ['16:00:32.079', 41, None]\n",
      "18 : ['16:00:33.426', None, None]\n",
      "19 : ['16:00:34.104', None, None]\n",
      "20 : ['16:00:34.772', None, None]\n"
     ]
    }
   ],
   "source": [
    "import csv\n",
    "i = 0\n",
    "dic = {}\n",
    "right_foot = None\n",
    "left_foot = None\n",
    "left_flag = True\n",
    "right_flag = True\n",
    "\n",
    "with open(\"D:\\\\Source\\\\ProblemSolvingWithAlgorithmsAndDataStructures\\\\SSD\\\\mat.txt\") as fd:\n",
    "    rd = csv.reader(fd, delimiter=\"\\t\",  quotechar='\"')\n",
    "    lineNum = rd.line_num\n",
    "    lst = []\n",
    "    for row in rd:\n",
    "            i = i+1\n",
    "            lst.append(row)\n",
    "            \n",
    "            if ( (int(row[8]) > 0 or int(row[9]) > 0 or int(row[10]) > 0 or int(row[11]) > 0) and left_flag):\n",
    "                # print(\"left_foot: \" , i)\n",
    "                left_foot = 42 - (i%42)\n",
    "                left_flag = False\n",
    "            if ( (int(row[16]) > 0 or int(row[17]) > 0 or int(row[18]) > 0 or int(row[19]) > 0) and right_flag):\n",
    "                # print(\"right_foot: \" , i)\n",
    "                right_foot = 42- (i%42)\n",
    "                right_flag = False\n",
    "        \n",
    "            if (i%42 == 0):\n",
    "                # print(lst[21][0])\n",
    "                dic[int(i/42)] = [lst[21][0], left_foot, right_foot]\n",
    "                left_foot = None\n",
    "                right_foot = None\n",
    "                left_flag = True\n",
    "                right_flag = True\n",
    "                \n",
    "                lst = []\n",
    "\n",
    "for k,v in dic.items():\n",
    "    print(k,\":\", v)\n"
   ]
  },
  {
   "cell_type": "code",
   "execution_count": 34,
   "id": "020afb05-4a14-4b7f-bc8c-3bfaed9c6363",
   "metadata": {},
   "outputs": [
    {
     "data": {
      "text/plain": [
       "[['16:00:21.974', 7, None], ['16:00:30.744', 41, 23]]"
      ]
     },
     "execution_count": 34,
     "metadata": {},
     "output_type": "execute_result"
    }
   ],
   "source": [
    "newlst  = []\n",
    "for k,v in dic.items():\n",
    "    if v[1] is not None and len(newlst) < 2:\n",
    "        if len(newlst) > 0 :\n",
    "            if v[1] > newlst[0][1]:\n",
    "                newlst.append(v)    \n",
    "        else:\n",
    "            newlst.append(v)\n",
    "            \n",
    "newlst            \n",
    "    "
   ]
  },
  {
   "cell_type": "code",
   "execution_count": 47,
   "id": "8476218d-4416-439d-a940-bc213b817011",
   "metadata": {},
   "outputs": [
    {
     "data": {
      "text/plain": [
       "8.77"
      ]
     },
     "execution_count": 47,
     "metadata": {},
     "output_type": "execute_result"
    }
   ],
   "source": [
    "from datetime import datetime\n",
    "d1 = datetime.strptime(newlst[1][0], \"%H:%M:%S.%f\")\n",
    "d2 = datetime.strptime(newlst[0][0], \"%H:%M:%S.%f\")\n",
    "delta = d1 - d2\n",
    "delta_secs = float(delta.total_seconds())\n",
    "delta_secs\n",
    "# delta_mills = int(delta.total_seconds() * 1000) # milliseconds"
   ]
  },
  {
   "cell_type": "code",
   "execution_count": 41,
   "id": "43706cca-40a9-4069-9b68-1a178794e25b",
   "metadata": {},
   "outputs": [
    {
     "data": {
      "text/plain": [
       "34"
      ]
     },
     "execution_count": 41,
     "metadata": {},
     "output_type": "execute_result"
    }
   ],
   "source": [
    "Stride_length = (newlst[1][1]- newlst[0][1])\n",
    "Stride_length"
   ]
  },
  {
   "cell_type": "code",
   "execution_count": 53,
   "id": "a4e7082d-9531-4234-98c7-2ec1c1390035",
   "metadata": {},
   "outputs": [
    {
     "name": "stdout",
     "output_type": "stream",
     "text": [
      "3.8768529076396807 per sec\n"
     ]
    }
   ],
   "source": [
    "Stride_velocity = (Stride_length/delta_secs)\n",
    "print(Stride_velocity, \"per sec\")"
   ]
  },
  {
   "cell_type": "code",
   "execution_count": 54,
   "id": "d79b92a4-4c58-4413-bb84-4f92358faac0",
   "metadata": {},
   "outputs": [
    {
     "name": "stdout",
     "output_type": "stream",
     "text": [
      "20.524515393386547 per minute\n"
     ]
    }
   ],
   "source": [
    "Stride_cadence = (3/delta_secs)*60\n",
    "print(Stride_cadence, \"per minute\")"
   ]
  },
  {
   "cell_type": "code",
   "execution_count": null,
   "id": "1339a57a-0c7b-4a0b-9e18-d9a90fa1d2ad",
   "metadata": {},
   "outputs": [],
   "source": []
  },
  {
   "cell_type": "code",
   "execution_count": null,
   "id": "6c4bc3e7-1d9e-4f0a-ba8f-712d239bcb4b",
   "metadata": {},
   "outputs": [],
   "source": []
  },
  {
   "cell_type": "code",
   "execution_count": null,
   "id": "99ef5538-ae57-4272-aca1-ce7b1e4e9cd9",
   "metadata": {},
   "outputs": [],
   "source": []
  },
  {
   "cell_type": "code",
   "execution_count": 62,
   "id": "ae097b4c-897f-44da-b08b-389c2dfdf22c",
   "metadata": {},
   "outputs": [
    {
     "name": "stdout",
     "output_type": "stream",
     "text": [
      "left_1 : ('16:00:30.644', 1)\n",
      "right_1 : ('16:00:30.727', 19)\n",
      "left_2 : ('16:00:31.319', 43)\n",
      "left_3 : ('16:00:32.006', 85)\n"
     ]
    }
   ],
   "source": [
    "import csv\n",
    "i = 0\n",
    "lcount = 1\n",
    "rcount = 1\n",
    "dic = {}\n",
    "right_foot = None\n",
    "\n",
    "left_foot = None\n",
    "left_flag = True\n",
    "right_flag = True\n",
    "\n",
    "with open(\"D:\\\\Source\\\\ProblemSolvingWithAlgorithmsAndDataStructures\\\\SSD\\\\3mat.txt\") as fd:\n",
    "    rd = csv.reader(fd, delimiter=\"\\t\",  quotechar='\"')\n",
    "    lineNum = rd.line_num\n",
    "    lst = []\n",
    "    for row in rd:\n",
    "            i = i+1            \n",
    "            if (int(row[8]) > 0 or int(row[9]) > 0 or int(row[10]) > 0 or int(row[11]) > 0) :  \n",
    "                if left_flag:\n",
    "                    left_flag = False\n",
    "                    dic[\"left\" + \"_\" + str(lcount)] = (row[0],  i)\n",
    "                    lcount = lcount + 1\n",
    "            else:\n",
    "                left_flag = True\n",
    "                \n",
    "            if (int(row[16]) > 0 or int(row[17]) > 0 or int(row[18]) > 0 or int(row[19]) > 0) :  \n",
    "                if right_flag:\n",
    "                    right_flag = False\n",
    "                    dic[\"right\" + \"_\" + str(rcount)] = (row[0], i)\n",
    "                    rcount = rcount + 1\n",
    "            else:\n",
    "                right_flag = True\n",
    "                \n",
    "                \n",
    "\n",
    "\n",
    "for k,v in dic.items():\n",
    "    print(k,\":\", v)"
   ]
  },
  {
   "cell_type": "code",
   "execution_count": 65,
   "id": "ef4c0c8f-31e8-4581-af9b-e42d966e9484",
   "metadata": {},
   "outputs": [
    {
     "data": {
      "text/plain": [
       "[('16:00:30.644', 1), ('16:00:31.319', 43), ('16:00:32.006', 85)]"
      ]
     },
     "execution_count": 65,
     "metadata": {},
     "output_type": "execute_result"
    }
   ],
   "source": [
    "newlst  = []\n",
    "for k,v in dic.items():\n",
    "    if k.find(\"left\")!= -1:\n",
    "        if v[1] is not None :\n",
    "            if len(newlst) > 0 :\n",
    "                if v[1] > newlst[0][1]:\n",
    "                    newlst.append(v)    \n",
    "            else:\n",
    "                newlst.append(v)\n",
    "            \n",
    "newlst        "
   ]
  },
  {
   "cell_type": "code",
   "execution_count": 68,
   "id": "710a17c6-365f-4f30-ad0a-b9eb6eb33e97",
   "metadata": {},
   "outputs": [
    {
     "data": {
      "text/plain": [
       "84"
      ]
     },
     "execution_count": 68,
     "metadata": {},
     "output_type": "execute_result"
    }
   ],
   "source": [
    "Stride_length = (newlst[-1][1]- newlst[0][1])\n",
    "Stride_length"
   ]
  },
  {
   "cell_type": "code",
   "execution_count": 69,
   "id": "dfabaa7e-602a-43cd-b740-2c42de068250",
   "metadata": {},
   "outputs": [
    {
     "data": {
      "text/plain": [
       "1.362"
      ]
     },
     "execution_count": 69,
     "metadata": {},
     "output_type": "execute_result"
    }
   ],
   "source": [
    "from datetime import datetime\n",
    "d1 = datetime.strptime(newlst[-1][0], \"%H:%M:%S.%f\")\n",
    "d2 = datetime.strptime(newlst[0][0], \"%H:%M:%S.%f\")\n",
    "delta = d1 - d2\n",
    "delta_secs = float(delta.total_seconds())\n",
    "delta_secs"
   ]
  },
  {
   "cell_type": "code",
   "execution_count": 70,
   "id": "58905ade-581e-4564-bca5-20fc93a6087c",
   "metadata": {},
   "outputs": [
    {
     "name": "stdout",
     "output_type": "stream",
     "text": [
      "61.67400881057268 per sec\n"
     ]
    }
   ],
   "source": [
    "Stride_velocity = (Stride_length/delta_secs)\n",
    "print(Stride_velocity, \"per sec\")"
   ]
  },
  {
   "cell_type": "code",
   "execution_count": 71,
   "id": "6b9604e0-17ad-4202-b2fe-aaa73a1ccf55",
   "metadata": {},
   "outputs": [
    {
     "name": "stdout",
     "output_type": "stream",
     "text": [
      "176.21145374449338 per minute\n"
     ]
    }
   ],
   "source": [
    "Stride_cadence = (len(dic.keys())/delta_secs)*60\n",
    "print(Stride_cadence, \"per minute\")"
   ]
  },
  {
   "cell_type": "code",
   "execution_count": null,
   "id": "bad65bea-6e3c-49d9-bb95-44a05d2c213a",
   "metadata": {},
   "outputs": [],
   "source": []
  }
 ],
 "metadata": {
  "kernelspec": {
   "display_name": "Python 3 (ipykernel)",
   "language": "python",
   "name": "python3"
  },
  "language_info": {
   "codemirror_mode": {
    "name": "ipython",
    "version": 3
   },
   "file_extension": ".py",
   "mimetype": "text/x-python",
   "name": "python",
   "nbconvert_exporter": "python",
   "pygments_lexer": "ipython3",
   "version": "3.8.13"
  }
 },
 "nbformat": 4,
 "nbformat_minor": 5
}
